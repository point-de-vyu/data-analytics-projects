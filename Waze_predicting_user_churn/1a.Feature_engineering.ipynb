{
 "cells": [
  {
   "cell_type": "markdown",
   "id": "35b4002e-5bd9-4219-9e76-124ab7787a3d",
   "metadata": {},
   "source": [
    "# **Waze Project**"
   ]
  },
  {
   "cell_type": "markdown",
   "id": "b4c6deee-d1d5-478a-99bb-65c334c6abff",
   "metadata": {},
   "source": [
    "## Feature engineering"
   ]
  },
  {
   "cell_type": "code",
   "execution_count": 58,
   "id": "7c7e6868-af9f-4175-8786-f0c7ca6cfc05",
   "metadata": {},
   "outputs": [],
   "source": [
    "import pandas as pd\n",
    "import numpy as np\n",
    "import matplotlib\n",
    "import matplotlib.pyplot as plt\n",
    "import seaborn as sns"
   ]
  },
  {
   "cell_type": "code",
   "execution_count": 72,
   "id": "d2b62406-8905-4cd1-89d9-de1f13d3c312",
   "metadata": {},
   "outputs": [],
   "source": [
    "df = pd.read_csv(\"waze_dataset_no_nans_no_incorrect_data.csv\")"
   ]
  },
  {
   "cell_type": "markdown",
   "id": "fa96233f-161b-42e3-acd3-ad07e63e9283",
   "metadata": {},
   "source": [
    "#### **`km_per_driving_day`**"
   ]
  },
  {
   "cell_type": "code",
   "execution_count": 73,
   "id": "30b2925c-8c49-41ff-a1ec-763f6eb2b6ad",
   "metadata": {},
   "outputs": [
    {
     "data": {
      "text/plain": [
       "count    10925.000000\n",
       "mean       682.957016\n",
       "std       1124.076334\n",
       "min          3.022063\n",
       "25%        168.775702\n",
       "50%        319.407852\n",
       "75%        662.486386\n",
       "max      14867.817280\n",
       "Name: km_per_driving_day, dtype: float64"
      ]
     },
     "execution_count": 73,
     "metadata": {},
     "output_type": "execute_result"
    }
   ],
   "source": [
    "df['km_per_driving_day'] = df['driven_km_drives'] / df['driving_days']\n",
    "df.loc[df['km_per_driving_day']==np.inf, 'km_per_driving_day'] = 0\n",
    "df['km_per_driving_day'].describe()"
   ]
  },
  {
   "cell_type": "markdown",
   "id": "fdc8d227-f785-401d-926e-4457d819c135",
   "metadata": {},
   "source": [
    "Max value here is 14867 km, which, as we saw in the previous file, it is impossible. However, 3Q value seems OK for someone who drives long distances every day"
   ]
  },
  {
   "cell_type": "markdown",
   "id": "941ff037-85c8-47fc-be84-4ce1c394b019",
   "metadata": {},
   "source": [
    "#### **`drives_per_driving_day`**\n",
    "\n",
    "At the previous stage, it turned out that some users complete a lot of drives. Let's use it as a feature"
   ]
  },
  {
   "cell_type": "code",
   "execution_count": 74,
   "id": "e0397d0d-2bbe-464e-a294-1804bf3724a4",
   "metadata": {},
   "outputs": [
    {
     "data": {
      "text/plain": [
       "count    10925.000000\n",
       "mean        80.366407\n",
       "std         66.730635\n",
       "min          1.000000\n",
       "25%         34.000000\n",
       "50%         61.000000\n",
       "75%        106.000000\n",
       "max        596.000000\n",
       "Name: drives, dtype: float64"
      ]
     },
     "execution_count": 74,
     "metadata": {},
     "output_type": "execute_result"
    }
   ],
   "source": [
    "df['drives'].describe()"
   ]
  },
  {
   "cell_type": "code",
   "execution_count": 75,
   "id": "9021e585-8cc7-47f7-a340-f90dd740056a",
   "metadata": {},
   "outputs": [],
   "source": [
    "df['drives_per_driving_day'] = df['drives'] / df['driving_days']"
   ]
  },
  {
   "cell_type": "code",
   "execution_count": 76,
   "id": "281980af-2373-4a47-9331-c1779e23883f",
   "metadata": {},
   "outputs": [
    {
     "data": {
      "text/plain": [
       "count    10925.000000\n",
       "mean        12.125710\n",
       "std         21.847025\n",
       "min          1.000000\n",
       "25%          2.833333\n",
       "50%          5.533333\n",
       "75%         11.625000\n",
       "max        395.000000\n",
       "Name: drives_per_driving_day, dtype: float64"
      ]
     },
     "execution_count": 76,
     "metadata": {},
     "output_type": "execute_result"
    }
   ],
   "source": [
    "df.loc[df['drives_per_driving_day']==np.inf, 'drives_per_driving_day'] = 0\n",
    "df['drives_per_driving_day'].describe()"
   ]
  },
  {
   "cell_type": "markdown",
   "id": "86d6a4e8-168a-481e-b081-496a23a76600",
   "metadata": {},
   "source": [
    "This is an interesting finding. There are entries with A LOT of drives per driving day, with the maximum of 395 (!).\n",
    "Some users who completed more than 200 drives did that in just one or two driving days (!) and drove several thousand km. This is probably physically impossible."
   ]
  },
  {
   "cell_type": "code",
   "execution_count": 77,
   "id": "7c1836db-fd9b-4dbb-a101-7dfc23552230",
   "metadata": {},
   "outputs": [
    {
     "data": {
      "text/html": [
       "<div>\n",
       "<style scoped>\n",
       "    .dataframe tbody tr th:only-of-type {\n",
       "        vertical-align: middle;\n",
       "    }\n",
       "\n",
       "    .dataframe tbody tr th {\n",
       "        vertical-align: top;\n",
       "    }\n",
       "\n",
       "    .dataframe thead th {\n",
       "        text-align: right;\n",
       "    }\n",
       "</style>\n",
       "<table border=\"1\" class=\"dataframe\">\n",
       "  <thead>\n",
       "    <tr style=\"text-align: right;\">\n",
       "      <th></th>\n",
       "      <th>Unnamed: 0</th>\n",
       "      <th>ID</th>\n",
       "      <th>label</th>\n",
       "      <th>sessions</th>\n",
       "      <th>drives</th>\n",
       "      <th>total_sessions</th>\n",
       "      <th>n_days_after_onboarding</th>\n",
       "      <th>total_navigations_fav1</th>\n",
       "      <th>total_navigations_fav2</th>\n",
       "      <th>driven_km_drives</th>\n",
       "      <th>duration_minutes_drives</th>\n",
       "      <th>activity_days</th>\n",
       "      <th>driving_days</th>\n",
       "      <th>device</th>\n",
       "      <th>km_per_driving_day</th>\n",
       "      <th>drives_per_driving_day</th>\n",
       "    </tr>\n",
       "  </thead>\n",
       "  <tbody>\n",
       "    <tr>\n",
       "      <th>48</th>\n",
       "      <td>63</td>\n",
       "      <td>63</td>\n",
       "      <td>retained</td>\n",
       "      <td>253</td>\n",
       "      <td>203</td>\n",
       "      <td>298.673647</td>\n",
       "      <td>1546</td>\n",
       "      <td>0</td>\n",
       "      <td>88</td>\n",
       "      <td>4695.169432</td>\n",
       "      <td>2146.467081</td>\n",
       "      <td>6</td>\n",
       "      <td>1</td>\n",
       "      <td>iPhone</td>\n",
       "      <td>4695.169432</td>\n",
       "      <td>203.0</td>\n",
       "    </tr>\n",
       "    <tr>\n",
       "      <th>276</th>\n",
       "      <td>376</td>\n",
       "      <td>376</td>\n",
       "      <td>churned</td>\n",
       "      <td>256</td>\n",
       "      <td>209</td>\n",
       "      <td>387.088693</td>\n",
       "      <td>2707</td>\n",
       "      <td>0</td>\n",
       "      <td>0</td>\n",
       "      <td>3309.863745</td>\n",
       "      <td>660.564362</td>\n",
       "      <td>1</td>\n",
       "      <td>1</td>\n",
       "      <td>iPhone</td>\n",
       "      <td>3309.863745</td>\n",
       "      <td>209.0</td>\n",
       "    </tr>\n",
       "    <tr>\n",
       "      <th>344</th>\n",
       "      <td>472</td>\n",
       "      <td>472</td>\n",
       "      <td>churned</td>\n",
       "      <td>250</td>\n",
       "      <td>209</td>\n",
       "      <td>257.054881</td>\n",
       "      <td>1341</td>\n",
       "      <td>139</td>\n",
       "      <td>19</td>\n",
       "      <td>10828.244390</td>\n",
       "      <td>4322.142842</td>\n",
       "      <td>1</td>\n",
       "      <td>1</td>\n",
       "      <td>Android</td>\n",
       "      <td>10828.244390</td>\n",
       "      <td>209.0</td>\n",
       "    </tr>\n",
       "    <tr>\n",
       "      <th>1466</th>\n",
       "      <td>1978</td>\n",
       "      <td>1978</td>\n",
       "      <td>retained</td>\n",
       "      <td>262</td>\n",
       "      <td>210</td>\n",
       "      <td>302.915904</td>\n",
       "      <td>1088</td>\n",
       "      <td>20</td>\n",
       "      <td>0</td>\n",
       "      <td>5268.853194</td>\n",
       "      <td>2312.041030</td>\n",
       "      <td>6</td>\n",
       "      <td>1</td>\n",
       "      <td>iPhone</td>\n",
       "      <td>5268.853194</td>\n",
       "      <td>210.0</td>\n",
       "    </tr>\n",
       "    <tr>\n",
       "      <th>1798</th>\n",
       "      <td>2445</td>\n",
       "      <td>2445</td>\n",
       "      <td>retained</td>\n",
       "      <td>323</td>\n",
       "      <td>259</td>\n",
       "      <td>375.045901</td>\n",
       "      <td>2793</td>\n",
       "      <td>43</td>\n",
       "      <td>35</td>\n",
       "      <td>4949.591318</td>\n",
       "      <td>747.623435</td>\n",
       "      <td>1</td>\n",
       "      <td>1</td>\n",
       "      <td>Android</td>\n",
       "      <td>4949.591318</td>\n",
       "      <td>259.0</td>\n",
       "    </tr>\n",
       "    <tr>\n",
       "      <th>1903</th>\n",
       "      <td>2583</td>\n",
       "      <td>2583</td>\n",
       "      <td>churned</td>\n",
       "      <td>338</td>\n",
       "      <td>271</td>\n",
       "      <td>362.135032</td>\n",
       "      <td>508</td>\n",
       "      <td>128</td>\n",
       "      <td>48</td>\n",
       "      <td>12691.386240</td>\n",
       "      <td>1296.527153</td>\n",
       "      <td>5</td>\n",
       "      <td>1</td>\n",
       "      <td>iPhone</td>\n",
       "      <td>12691.386240</td>\n",
       "      <td>271.0</td>\n",
       "    </tr>\n",
       "    <tr>\n",
       "      <th>2250</th>\n",
       "      <td>3057</td>\n",
       "      <td>3057</td>\n",
       "      <td>churned</td>\n",
       "      <td>522</td>\n",
       "      <td>435</td>\n",
       "      <td>659.094737</td>\n",
       "      <td>355</td>\n",
       "      <td>0</td>\n",
       "      <td>120</td>\n",
       "      <td>5562.202041</td>\n",
       "      <td>2167.486429</td>\n",
       "      <td>4</td>\n",
       "      <td>2</td>\n",
       "      <td>iPhone</td>\n",
       "      <td>2781.101020</td>\n",
       "      <td>217.5</td>\n",
       "    </tr>\n",
       "    <tr>\n",
       "      <th>2287</th>\n",
       "      <td>3106</td>\n",
       "      <td>3106</td>\n",
       "      <td>retained</td>\n",
       "      <td>272</td>\n",
       "      <td>217</td>\n",
       "      <td>294.646403</td>\n",
       "      <td>1099</td>\n",
       "      <td>319</td>\n",
       "      <td>23</td>\n",
       "      <td>4070.204693</td>\n",
       "      <td>870.903275</td>\n",
       "      <td>5</td>\n",
       "      <td>1</td>\n",
       "      <td>iPhone</td>\n",
       "      <td>4070.204693</td>\n",
       "      <td>217.0</td>\n",
       "    </tr>\n",
       "    <tr>\n",
       "      <th>3359</th>\n",
       "      <td>4616</td>\n",
       "      <td>4616</td>\n",
       "      <td>retained</td>\n",
       "      <td>339</td>\n",
       "      <td>273</td>\n",
       "      <td>365.312848</td>\n",
       "      <td>1761</td>\n",
       "      <td>310</td>\n",
       "      <td>18</td>\n",
       "      <td>4065.961787</td>\n",
       "      <td>2501.688159</td>\n",
       "      <td>1</td>\n",
       "      <td>1</td>\n",
       "      <td>iPhone</td>\n",
       "      <td>4065.961787</td>\n",
       "      <td>273.0</td>\n",
       "    </tr>\n",
       "    <tr>\n",
       "      <th>3499</th>\n",
       "      <td>4806</td>\n",
       "      <td>4806</td>\n",
       "      <td>retained</td>\n",
       "      <td>337</td>\n",
       "      <td>305</td>\n",
       "      <td>426.923922</td>\n",
       "      <td>1338</td>\n",
       "      <td>0</td>\n",
       "      <td>5</td>\n",
       "      <td>1167.154002</td>\n",
       "      <td>451.280651</td>\n",
       "      <td>6</td>\n",
       "      <td>1</td>\n",
       "      <td>Android</td>\n",
       "      <td>1167.154002</td>\n",
       "      <td>305.0</td>\n",
       "    </tr>\n",
       "    <tr>\n",
       "      <th>4640</th>\n",
       "      <td>6381</td>\n",
       "      <td>6381</td>\n",
       "      <td>churned</td>\n",
       "      <td>288</td>\n",
       "      <td>237</td>\n",
       "      <td>300.875205</td>\n",
       "      <td>1911</td>\n",
       "      <td>25</td>\n",
       "      <td>8</td>\n",
       "      <td>3086.837567</td>\n",
       "      <td>1345.815233</td>\n",
       "      <td>6</td>\n",
       "      <td>1</td>\n",
       "      <td>iPhone</td>\n",
       "      <td>3086.837567</td>\n",
       "      <td>237.0</td>\n",
       "    </tr>\n",
       "    <tr>\n",
       "      <th>5629</th>\n",
       "      <td>7731</td>\n",
       "      <td>7731</td>\n",
       "      <td>churned</td>\n",
       "      <td>494</td>\n",
       "      <td>395</td>\n",
       "      <td>577.510244</td>\n",
       "      <td>2975</td>\n",
       "      <td>69</td>\n",
       "      <td>0</td>\n",
       "      <td>8665.284478</td>\n",
       "      <td>259.293564</td>\n",
       "      <td>5</td>\n",
       "      <td>1</td>\n",
       "      <td>iPhone</td>\n",
       "      <td>8665.284478</td>\n",
       "      <td>395.0</td>\n",
       "    </tr>\n",
       "    <tr>\n",
       "      <th>6398</th>\n",
       "      <td>8781</td>\n",
       "      <td>8781</td>\n",
       "      <td>retained</td>\n",
       "      <td>249</td>\n",
       "      <td>210</td>\n",
       "      <td>261.323778</td>\n",
       "      <td>1545</td>\n",
       "      <td>172</td>\n",
       "      <td>0</td>\n",
       "      <td>2478.172471</td>\n",
       "      <td>704.547918</td>\n",
       "      <td>1</td>\n",
       "      <td>1</td>\n",
       "      <td>iPhone</td>\n",
       "      <td>2478.172471</td>\n",
       "      <td>210.0</td>\n",
       "    </tr>\n",
       "    <tr>\n",
       "      <th>6846</th>\n",
       "      <td>9406</td>\n",
       "      <td>9406</td>\n",
       "      <td>retained</td>\n",
       "      <td>254</td>\n",
       "      <td>227</td>\n",
       "      <td>279.477231</td>\n",
       "      <td>1152</td>\n",
       "      <td>49</td>\n",
       "      <td>10</td>\n",
       "      <td>1185.882067</td>\n",
       "      <td>484.194194</td>\n",
       "      <td>3</td>\n",
       "      <td>1</td>\n",
       "      <td>Android</td>\n",
       "      <td>1185.882067</td>\n",
       "      <td>227.0</td>\n",
       "    </tr>\n",
       "    <tr>\n",
       "      <th>7088</th>\n",
       "      <td>9729</td>\n",
       "      <td>9729</td>\n",
       "      <td>retained</td>\n",
       "      <td>298</td>\n",
       "      <td>242</td>\n",
       "      <td>591.452619</td>\n",
       "      <td>3489</td>\n",
       "      <td>625</td>\n",
       "      <td>148</td>\n",
       "      <td>1884.334621</td>\n",
       "      <td>1156.602562</td>\n",
       "      <td>1</td>\n",
       "      <td>1</td>\n",
       "      <td>iPhone</td>\n",
       "      <td>1884.334621</td>\n",
       "      <td>242.0</td>\n",
       "    </tr>\n",
       "    <tr>\n",
       "      <th>7776</th>\n",
       "      <td>10670</td>\n",
       "      <td>10670</td>\n",
       "      <td>retained</td>\n",
       "      <td>256</td>\n",
       "      <td>206</td>\n",
       "      <td>285.096208</td>\n",
       "      <td>697</td>\n",
       "      <td>119</td>\n",
       "      <td>0</td>\n",
       "      <td>5170.433627</td>\n",
       "      <td>4306.036188</td>\n",
       "      <td>1</td>\n",
       "      <td>1</td>\n",
       "      <td>iPhone</td>\n",
       "      <td>5170.433627</td>\n",
       "      <td>206.0</td>\n",
       "    </tr>\n",
       "    <tr>\n",
       "      <th>7864</th>\n",
       "      <td>10781</td>\n",
       "      <td>10781</td>\n",
       "      <td>churned</td>\n",
       "      <td>334</td>\n",
       "      <td>267</td>\n",
       "      <td>562.090460</td>\n",
       "      <td>2839</td>\n",
       "      <td>375</td>\n",
       "      <td>47</td>\n",
       "      <td>2005.001199</td>\n",
       "      <td>1227.107590</td>\n",
       "      <td>1</td>\n",
       "      <td>1</td>\n",
       "      <td>iPhone</td>\n",
       "      <td>2005.001199</td>\n",
       "      <td>267.0</td>\n",
       "    </tr>\n",
       "    <tr>\n",
       "      <th>7956</th>\n",
       "      <td>10910</td>\n",
       "      <td>10910</td>\n",
       "      <td>retained</td>\n",
       "      <td>342</td>\n",
       "      <td>276</td>\n",
       "      <td>352.672117</td>\n",
       "      <td>2051</td>\n",
       "      <td>0</td>\n",
       "      <td>22</td>\n",
       "      <td>5416.735502</td>\n",
       "      <td>4141.408317</td>\n",
       "      <td>7</td>\n",
       "      <td>1</td>\n",
       "      <td>iPhone</td>\n",
       "      <td>5416.735502</td>\n",
       "      <td>276.0</td>\n",
       "    </tr>\n",
       "    <tr>\n",
       "      <th>8271</th>\n",
       "      <td>11356</td>\n",
       "      <td>11356</td>\n",
       "      <td>retained</td>\n",
       "      <td>302</td>\n",
       "      <td>243</td>\n",
       "      <td>455.737907</td>\n",
       "      <td>835</td>\n",
       "      <td>324</td>\n",
       "      <td>0</td>\n",
       "      <td>6362.158953</td>\n",
       "      <td>2149.354509</td>\n",
       "      <td>1</td>\n",
       "      <td>1</td>\n",
       "      <td>Android</td>\n",
       "      <td>6362.158953</td>\n",
       "      <td>243.0</td>\n",
       "    </tr>\n",
       "    <tr>\n",
       "      <th>9314</th>\n",
       "      <td>12779</td>\n",
       "      <td>12779</td>\n",
       "      <td>churned</td>\n",
       "      <td>379</td>\n",
       "      <td>304</td>\n",
       "      <td>419.128979</td>\n",
       "      <td>1859</td>\n",
       "      <td>206</td>\n",
       "      <td>0</td>\n",
       "      <td>3317.935982</td>\n",
       "      <td>2625.416326</td>\n",
       "      <td>6</td>\n",
       "      <td>1</td>\n",
       "      <td>Android</td>\n",
       "      <td>3317.935982</td>\n",
       "      <td>304.0</td>\n",
       "    </tr>\n",
       "    <tr>\n",
       "      <th>9411</th>\n",
       "      <td>12932</td>\n",
       "      <td>12932</td>\n",
       "      <td>churned</td>\n",
       "      <td>526</td>\n",
       "      <td>421</td>\n",
       "      <td>542.811260</td>\n",
       "      <td>954</td>\n",
       "      <td>168</td>\n",
       "      <td>19</td>\n",
       "      <td>2746.929709</td>\n",
       "      <td>1935.364269</td>\n",
       "      <td>8</td>\n",
       "      <td>2</td>\n",
       "      <td>iPhone</td>\n",
       "      <td>1373.464855</td>\n",
       "      <td>210.5</td>\n",
       "    </tr>\n",
       "  </tbody>\n",
       "</table>\n",
       "</div>"
      ],
      "text/plain": [
       "      Unnamed: 0     ID     label  sessions  drives  total_sessions  \\\n",
       "48            63     63  retained       253     203      298.673647   \n",
       "276          376    376   churned       256     209      387.088693   \n",
       "344          472    472   churned       250     209      257.054881   \n",
       "1466        1978   1978  retained       262     210      302.915904   \n",
       "1798        2445   2445  retained       323     259      375.045901   \n",
       "1903        2583   2583   churned       338     271      362.135032   \n",
       "2250        3057   3057   churned       522     435      659.094737   \n",
       "2287        3106   3106  retained       272     217      294.646403   \n",
       "3359        4616   4616  retained       339     273      365.312848   \n",
       "3499        4806   4806  retained       337     305      426.923922   \n",
       "4640        6381   6381   churned       288     237      300.875205   \n",
       "5629        7731   7731   churned       494     395      577.510244   \n",
       "6398        8781   8781  retained       249     210      261.323778   \n",
       "6846        9406   9406  retained       254     227      279.477231   \n",
       "7088        9729   9729  retained       298     242      591.452619   \n",
       "7776       10670  10670  retained       256     206      285.096208   \n",
       "7864       10781  10781   churned       334     267      562.090460   \n",
       "7956       10910  10910  retained       342     276      352.672117   \n",
       "8271       11356  11356  retained       302     243      455.737907   \n",
       "9314       12779  12779   churned       379     304      419.128979   \n",
       "9411       12932  12932   churned       526     421      542.811260   \n",
       "\n",
       "      n_days_after_onboarding  total_navigations_fav1  total_navigations_fav2  \\\n",
       "48                       1546                       0                      88   \n",
       "276                      2707                       0                       0   \n",
       "344                      1341                     139                      19   \n",
       "1466                     1088                      20                       0   \n",
       "1798                     2793                      43                      35   \n",
       "1903                      508                     128                      48   \n",
       "2250                      355                       0                     120   \n",
       "2287                     1099                     319                      23   \n",
       "3359                     1761                     310                      18   \n",
       "3499                     1338                       0                       5   \n",
       "4640                     1911                      25                       8   \n",
       "5629                     2975                      69                       0   \n",
       "6398                     1545                     172                       0   \n",
       "6846                     1152                      49                      10   \n",
       "7088                     3489                     625                     148   \n",
       "7776                      697                     119                       0   \n",
       "7864                     2839                     375                      47   \n",
       "7956                     2051                       0                      22   \n",
       "8271                      835                     324                       0   \n",
       "9314                     1859                     206                       0   \n",
       "9411                      954                     168                      19   \n",
       "\n",
       "      driven_km_drives  duration_minutes_drives  activity_days  driving_days  \\\n",
       "48         4695.169432              2146.467081              6             1   \n",
       "276        3309.863745               660.564362              1             1   \n",
       "344       10828.244390              4322.142842              1             1   \n",
       "1466       5268.853194              2312.041030              6             1   \n",
       "1798       4949.591318               747.623435              1             1   \n",
       "1903      12691.386240              1296.527153              5             1   \n",
       "2250       5562.202041              2167.486429              4             2   \n",
       "2287       4070.204693               870.903275              5             1   \n",
       "3359       4065.961787              2501.688159              1             1   \n",
       "3499       1167.154002               451.280651              6             1   \n",
       "4640       3086.837567              1345.815233              6             1   \n",
       "5629       8665.284478               259.293564              5             1   \n",
       "6398       2478.172471               704.547918              1             1   \n",
       "6846       1185.882067               484.194194              3             1   \n",
       "7088       1884.334621              1156.602562              1             1   \n",
       "7776       5170.433627              4306.036188              1             1   \n",
       "7864       2005.001199              1227.107590              1             1   \n",
       "7956       5416.735502              4141.408317              7             1   \n",
       "8271       6362.158953              2149.354509              1             1   \n",
       "9314       3317.935982              2625.416326              6             1   \n",
       "9411       2746.929709              1935.364269              8             2   \n",
       "\n",
       "       device  km_per_driving_day  drives_per_driving_day  \n",
       "48     iPhone         4695.169432                   203.0  \n",
       "276    iPhone         3309.863745                   209.0  \n",
       "344   Android        10828.244390                   209.0  \n",
       "1466   iPhone         5268.853194                   210.0  \n",
       "1798  Android         4949.591318                   259.0  \n",
       "1903   iPhone        12691.386240                   271.0  \n",
       "2250   iPhone         2781.101020                   217.5  \n",
       "2287   iPhone         4070.204693                   217.0  \n",
       "3359   iPhone         4065.961787                   273.0  \n",
       "3499  Android         1167.154002                   305.0  \n",
       "4640   iPhone         3086.837567                   237.0  \n",
       "5629   iPhone         8665.284478                   395.0  \n",
       "6398   iPhone         2478.172471                   210.0  \n",
       "6846  Android         1185.882067                   227.0  \n",
       "7088   iPhone         1884.334621                   242.0  \n",
       "7776   iPhone         5170.433627                   206.0  \n",
       "7864   iPhone         2005.001199                   267.0  \n",
       "7956   iPhone         5416.735502                   276.0  \n",
       "8271  Android         6362.158953                   243.0  \n",
       "9314  Android         3317.935982                   304.0  \n",
       "9411   iPhone         1373.464855                   210.5  "
      ]
     },
     "execution_count": 77,
     "metadata": {},
     "output_type": "execute_result"
    }
   ],
   "source": [
    "df[df['drives_per_driving_day'] >= 200]"
   ]
  },
  {
   "cell_type": "markdown",
   "id": "f7552e7b-95e5-46a5-a42f-21c76cbe3665",
   "metadata": {},
   "source": [
    "It would be great if it was possible to get some elaboration on this data from the stakeholders. For now, I suggest we drop rows where `drives_per_driving_day` value is more than 50 (assuming taxis or deliveries can still make dozens of drives per day, but that alone would need some research) and setting the threshold of professional drivers at more than the mean value."
   ]
  },
  {
   "cell_type": "code",
   "execution_count": 78,
   "id": "e7befb92-105b-4424-9047-eb4a6656e58d",
   "metadata": {},
   "outputs": [
    {
     "data": {
      "text/plain": [
       "(469, 16)"
      ]
     },
     "execution_count": 78,
     "metadata": {},
     "output_type": "execute_result"
    }
   ],
   "source": [
    "df[df['drives_per_driving_day'] > 50].shape"
   ]
  },
  {
   "cell_type": "code",
   "execution_count": 79,
   "id": "cdf85e40-e31d-49e0-97e0-df8081eb6fb6",
   "metadata": {},
   "outputs": [],
   "source": [
    "# df = df[df['drives_per_driving_day'] <= 50]"
   ]
  },
  {
   "cell_type": "code",
   "execution_count": 80,
   "id": "cde021ca-e630-46fb-93db-2df1be43e559",
   "metadata": {},
   "outputs": [
    {
     "data": {
      "text/plain": [
       "12.12571034371884"
      ]
     },
     "execution_count": 80,
     "metadata": {},
     "output_type": "execute_result"
    }
   ],
   "source": [
    "drives_per_day_mean = df['drives_per_driving_day'].mean()\n",
    "drives_per_day_mean"
   ]
  },
  {
   "cell_type": "markdown",
   "id": "4cad40a4-bb8f-437c-bed0-87ec15f68c79",
   "metadata": {},
   "source": [
    "#### **`km_per_drive`**\n",
    "\n",
    "This column shows the mean number of kilometers per drive made in the last month for each user."
   ]
  },
  {
   "cell_type": "code",
   "execution_count": 81,
   "id": "78d35a69-eb93-468b-ae79-818b98b9e8cb",
   "metadata": {},
   "outputs": [
    {
     "data": {
      "text/plain": [
       "count    10925.000000\n",
       "mean       101.341372\n",
       "std        175.592875\n",
       "min          1.008775\n",
       "25%         27.902017\n",
       "50%         56.391229\n",
       "75%        114.172609\n",
       "max       5862.481732\n",
       "Name: km_per_drive, dtype: float64"
      ]
     },
     "execution_count": 81,
     "metadata": {},
     "output_type": "execute_result"
    }
   ],
   "source": [
    "df['km_per_drive'] = df['driven_km_drives'] / df['drives']\n",
    "df.loc[df['km_per_drive']==np.inf, 'km_per_drive'] = 0\n",
    "df['km_per_drive'].describe()"
   ]
  },
  {
   "cell_type": "markdown",
   "id": "e04df5dd-5f73-4489-82eb-a46d91c8ef4e",
   "metadata": {},
   "source": [
    "Max value is 5862 km per drive! Driving even at extreme 150 km/h, it would take 39 hours to complete this drive. It's unlikely that this could be real"
   ]
  },
  {
   "cell_type": "code",
   "execution_count": 82,
   "id": "10b74bc4-ab76-4bff-b803-88773a58c733",
   "metadata": {},
   "outputs": [
    {
     "data": {
      "text/plain": [
       "(30, 17)"
      ]
     },
     "execution_count": 82,
     "metadata": {},
     "output_type": "execute_result"
    }
   ],
   "source": [
    "df[df['km_per_drive'] >= 1200].shape"
   ]
  },
  {
   "cell_type": "markdown",
   "id": "3fd94b61-3aa9-4145-99bf-6c29c778ae51",
   "metadata": {},
   "source": [
    "There are users who make drives that are hundreds and even thousands km long. There may be a group of long-haul drivers indicated here.\n",
    "If it is true, the specifics of their usage need to be studied, but, for the sake of dealing with extremities, we can cut the rows by threshold of km_per_drive >= 1200."
   ]
  },
  {
   "cell_type": "code",
   "execution_count": 83,
   "id": "6ca4bcd2-5f06-4203-b3f7-d15e7fbd5c19",
   "metadata": {},
   "outputs": [],
   "source": [
    "#df = df[df['km_per_drive'] <= 1000]"
   ]
  },
  {
   "cell_type": "code",
   "execution_count": 84,
   "id": "6f387782-6630-4378-93bf-af8aac8a0273",
   "metadata": {},
   "outputs": [
    {
     "data": {
      "text/plain": [
       "(10925, 17)"
      ]
     },
     "execution_count": 84,
     "metadata": {},
     "output_type": "execute_result"
    }
   ],
   "source": [
    "df.shape"
   ]
  },
  {
   "cell_type": "markdown",
   "id": "5e65a924-a93c-421e-9e09-59887929a7fa",
   "metadata": {},
   "source": [
    "## Variable encoding"
   ]
  },
  {
   "cell_type": "markdown",
   "id": "d2803732-a1ed-421c-94ff-fc99009bcf3a",
   "metadata": {},
   "source": [
    "#### **Target encoding**"
   ]
  },
  {
   "cell_type": "code",
   "execution_count": 85,
   "id": "172913d8-fa7b-4aef-b684-274a5507cfcd",
   "metadata": {},
   "outputs": [],
   "source": [
    "df['is_churned'] = np.where(df['label'] == 'churned', 1, 0)"
   ]
  },
  {
   "cell_type": "code",
   "execution_count": 86,
   "id": "0ac5117b-d04a-45fa-aad6-7c8f9fb9d4cf",
   "metadata": {
    "scrolled": true
   },
   "outputs": [],
   "source": [
    "df.drop(columns = ['label'], inplace=True)"
   ]
  },
  {
   "cell_type": "markdown",
   "id": "b1e5d707-d01a-46a3-bfb2-3ef11fb38554",
   "metadata": {},
   "source": [
    "#### **Dummying features**"
   ]
  },
  {
   "cell_type": "markdown",
   "id": "675ab4d2-5ff9-4bd9-aa52-b4596689f018",
   "metadata": {},
   "source": [
    "The only categorical feature remaining is the device, we can get dummies for it."
   ]
  },
  {
   "cell_type": "code",
   "execution_count": 87,
   "id": "8c18d688-5a96-42fd-b722-6a592d537c95",
   "metadata": {},
   "outputs": [],
   "source": [
    "df[\"device_code\"] = np.where(df[\"device\"] == \"iPhone\", 1, 2)"
   ]
  },
  {
   "cell_type": "code",
   "execution_count": 88,
   "id": "23c60030-5eb1-43ec-a4e5-9fc54125e749",
   "metadata": {},
   "outputs": [],
   "source": [
    "df.drop(columns = [\"device\"], inplace=True)"
   ]
  },
  {
   "cell_type": "code",
   "execution_count": 89,
   "id": "980000c0-9de3-434b-96e2-0896c432c16c",
   "metadata": {},
   "outputs": [
    {
     "data": {
      "text/html": [
       "<div>\n",
       "<style scoped>\n",
       "    .dataframe tbody tr th:only-of-type {\n",
       "        vertical-align: middle;\n",
       "    }\n",
       "\n",
       "    .dataframe tbody tr th {\n",
       "        vertical-align: top;\n",
       "    }\n",
       "\n",
       "    .dataframe thead th {\n",
       "        text-align: right;\n",
       "    }\n",
       "</style>\n",
       "<table border=\"1\" class=\"dataframe\">\n",
       "  <thead>\n",
       "    <tr style=\"text-align: right;\">\n",
       "      <th></th>\n",
       "      <th>Unnamed: 0</th>\n",
       "      <th>ID</th>\n",
       "      <th>sessions</th>\n",
       "      <th>drives</th>\n",
       "      <th>total_sessions</th>\n",
       "      <th>n_days_after_onboarding</th>\n",
       "      <th>total_navigations_fav1</th>\n",
       "      <th>total_navigations_fav2</th>\n",
       "      <th>driven_km_drives</th>\n",
       "      <th>duration_minutes_drives</th>\n",
       "      <th>activity_days</th>\n",
       "      <th>driving_days</th>\n",
       "      <th>km_per_driving_day</th>\n",
       "      <th>drives_per_driving_day</th>\n",
       "      <th>km_per_drive</th>\n",
       "      <th>is_churned</th>\n",
       "      <th>device_code</th>\n",
       "    </tr>\n",
       "  </thead>\n",
       "  <tbody>\n",
       "    <tr>\n",
       "      <th>0</th>\n",
       "      <td>0</td>\n",
       "      <td>0</td>\n",
       "      <td>283</td>\n",
       "      <td>226</td>\n",
       "      <td>296.748273</td>\n",
       "      <td>2276</td>\n",
       "      <td>208</td>\n",
       "      <td>0</td>\n",
       "      <td>2628.845068</td>\n",
       "      <td>1985.775061</td>\n",
       "      <td>28</td>\n",
       "      <td>19</td>\n",
       "      <td>138.360267</td>\n",
       "      <td>11.894737</td>\n",
       "      <td>11.632058</td>\n",
       "      <td>0</td>\n",
       "      <td>2</td>\n",
       "    </tr>\n",
       "    <tr>\n",
       "      <th>1</th>\n",
       "      <td>1</td>\n",
       "      <td>1</td>\n",
       "      <td>133</td>\n",
       "      <td>107</td>\n",
       "      <td>326.896596</td>\n",
       "      <td>1225</td>\n",
       "      <td>19</td>\n",
       "      <td>64</td>\n",
       "      <td>13715.920550</td>\n",
       "      <td>3160.472914</td>\n",
       "      <td>13</td>\n",
       "      <td>11</td>\n",
       "      <td>1246.901868</td>\n",
       "      <td>9.727273</td>\n",
       "      <td>128.186173</td>\n",
       "      <td>0</td>\n",
       "      <td>1</td>\n",
       "    </tr>\n",
       "    <tr>\n",
       "      <th>2</th>\n",
       "      <td>2</td>\n",
       "      <td>2</td>\n",
       "      <td>114</td>\n",
       "      <td>95</td>\n",
       "      <td>135.522926</td>\n",
       "      <td>2651</td>\n",
       "      <td>0</td>\n",
       "      <td>0</td>\n",
       "      <td>3059.148818</td>\n",
       "      <td>1610.735904</td>\n",
       "      <td>14</td>\n",
       "      <td>8</td>\n",
       "      <td>382.393602</td>\n",
       "      <td>11.875000</td>\n",
       "      <td>32.201567</td>\n",
       "      <td>0</td>\n",
       "      <td>2</td>\n",
       "    </tr>\n",
       "    <tr>\n",
       "      <th>3</th>\n",
       "      <td>3</td>\n",
       "      <td>3</td>\n",
       "      <td>49</td>\n",
       "      <td>40</td>\n",
       "      <td>67.589221</td>\n",
       "      <td>15</td>\n",
       "      <td>322</td>\n",
       "      <td>7</td>\n",
       "      <td>913.591123</td>\n",
       "      <td>587.196542</td>\n",
       "      <td>7</td>\n",
       "      <td>3</td>\n",
       "      <td>304.530374</td>\n",
       "      <td>13.333333</td>\n",
       "      <td>22.839778</td>\n",
       "      <td>0</td>\n",
       "      <td>1</td>\n",
       "    </tr>\n",
       "    <tr>\n",
       "      <th>4</th>\n",
       "      <td>4</td>\n",
       "      <td>4</td>\n",
       "      <td>84</td>\n",
       "      <td>68</td>\n",
       "      <td>168.247020</td>\n",
       "      <td>1562</td>\n",
       "      <td>166</td>\n",
       "      <td>5</td>\n",
       "      <td>3950.202008</td>\n",
       "      <td>1219.555924</td>\n",
       "      <td>27</td>\n",
       "      <td>18</td>\n",
       "      <td>219.455667</td>\n",
       "      <td>3.777778</td>\n",
       "      <td>58.091206</td>\n",
       "      <td>0</td>\n",
       "      <td>2</td>\n",
       "    </tr>\n",
       "  </tbody>\n",
       "</table>\n",
       "</div>"
      ],
      "text/plain": [
       "   Unnamed: 0  ID  sessions  drives  total_sessions  n_days_after_onboarding  \\\n",
       "0           0   0       283     226      296.748273                     2276   \n",
       "1           1   1       133     107      326.896596                     1225   \n",
       "2           2   2       114      95      135.522926                     2651   \n",
       "3           3   3        49      40       67.589221                       15   \n",
       "4           4   4        84      68      168.247020                     1562   \n",
       "\n",
       "   total_navigations_fav1  total_navigations_fav2  driven_km_drives  \\\n",
       "0                     208                       0       2628.845068   \n",
       "1                      19                      64      13715.920550   \n",
       "2                       0                       0       3059.148818   \n",
       "3                     322                       7        913.591123   \n",
       "4                     166                       5       3950.202008   \n",
       "\n",
       "   duration_minutes_drives  activity_days  driving_days  km_per_driving_day  \\\n",
       "0              1985.775061             28            19          138.360267   \n",
       "1              3160.472914             13            11         1246.901868   \n",
       "2              1610.735904             14             8          382.393602   \n",
       "3               587.196542              7             3          304.530374   \n",
       "4              1219.555924             27            18          219.455667   \n",
       "\n",
       "   drives_per_driving_day  km_per_drive  is_churned  device_code  \n",
       "0               11.894737     11.632058           0            2  \n",
       "1                9.727273    128.186173           0            1  \n",
       "2               11.875000     32.201567           0            2  \n",
       "3               13.333333     22.839778           0            1  \n",
       "4                3.777778     58.091206           0            2  "
      ]
     },
     "execution_count": 89,
     "metadata": {},
     "output_type": "execute_result"
    }
   ],
   "source": [
    "df.head()"
   ]
  },
  {
   "cell_type": "code",
   "execution_count": 90,
   "id": "65086b9c-678f-4b7d-84e2-96b709e2af9f",
   "metadata": {},
   "outputs": [],
   "source": [
    "df.to_csv('dataset_encoded_features.csv')"
   ]
  },
  {
   "cell_type": "markdown",
   "id": "2d7fb169-00ca-446f-84b2-b890b243e6e2",
   "metadata": {},
   "source": [
    "## Conclusion"
   ]
  },
  {
   "cell_type": "markdown",
   "id": "e12c1c23-0cda-4038-95e6-4135be5aa4ab",
   "metadata": {},
   "source": [
    "While trying to engineer helpful features, I discovered values that raised reasonable suspicion:\n",
    "- extremely long averaged distances per drive\n",
    "- extremely high averaged values of the number of drives per driving day\n",
    "\n",
    "While, in my opinion, this might indicate two different groups of drivers: 1) long-haul drivers or travellers and 2) taxi/delivery drivers making lots of drives daily. Their patterns of usage need further research, and insights from stakeholders will be very important. However, some of such values do not seem physically possible. So it is crucial to discuss possible errors in the data and also learn how to establish proper thresholds."
   ]
  },
  {
   "cell_type": "code",
   "execution_count": null,
   "id": "bb0cf0d3-287b-495f-8788-0c42ab6803b0",
   "metadata": {},
   "outputs": [],
   "source": []
  }
 ],
 "metadata": {
  "kernelspec": {
   "display_name": "Python 3 (ipykernel)",
   "language": "python",
   "name": "python3"
  },
  "language_info": {
   "codemirror_mode": {
    "name": "ipython",
    "version": 3
   },
   "file_extension": ".py",
   "mimetype": "text/x-python",
   "name": "python",
   "nbconvert_exporter": "python",
   "pygments_lexer": "ipython3",
   "version": "3.10.11"
  }
 },
 "nbformat": 4,
 "nbformat_minor": 5
}
